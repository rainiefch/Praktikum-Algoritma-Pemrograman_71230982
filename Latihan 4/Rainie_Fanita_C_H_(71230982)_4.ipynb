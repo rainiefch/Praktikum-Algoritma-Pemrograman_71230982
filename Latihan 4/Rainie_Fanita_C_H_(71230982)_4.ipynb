{
  "nbformat": 4,
  "nbformat_minor": 0,
  "metadata": {
    "colab": {
      "provenance": []
    },
    "kernelspec": {
      "name": "python3",
      "display_name": "Python 3"
    },
    "language_info": {
      "name": "python"
    }
  },
  "cells": [
    {
      "cell_type": "markdown",
      "source": [
        "**LATIHAN 4.1**"
      ],
      "metadata": {
        "id": "t5XHfTTKaHap"
      }
    },
    {
      "cell_type": "markdown",
      "source": [
        "Buatlah sebuah fungsi yang dapat menentukan apakah ketiga parameter memenuhi\n",
        "semua ketentuan berikut ini:\n",
        "\n",
        "> Ketiga parameter tersebut nilainya berbeda semua.<br>\n",
        "> Ada kemungkinan jika diambil dua parameter dan dijumlahkan hasilnya sama dengan parameter lainnya (yang tersisa).\n",
        "\n",
        "Fungsi tersebut akan menghasilkan nilai True jika semua ketentuan tersebut dipenuhi. Jika\n",
        "tidak terpenuhi maka fungsi akan menghasilkan nilai False. Fungsi anda harus diberi nama\n",
        "cek_angka()."
      ],
      "metadata": {
        "id": "7YiNu9a0aVl7"
      }
    },
    {
      "cell_type": "code",
      "execution_count": 2,
      "metadata": {
        "id": "ELYRgpGQZ8cj",
        "colab": {
          "base_uri": "https://localhost:8080/"
        },
        "outputId": "0194b08b-e3ac-4e37-84f0-56bc83f7cba5"
      },
      "outputs": [
        {
          "output_type": "stream",
          "name": "stdout",
          "text": [
            "True\n",
            "False\n",
            "False\n"
          ]
        }
      ],
      "source": [
        "def cek_angka(a,b,c):\n",
        "  if a != b != c  and (a + b == c or a + c == b or b + c == a):\n",
        "    return True\n",
        "  else:\n",
        "    return False\n",
        "\n",
        "print(cek_angka(1,2,3))\n",
        "print(cek_angka(2,4,10))\n",
        "print(cek_angka(2,2,4))"
      ]
    },
    {
      "cell_type": "markdown",
      "source": [
        "**LATIHAN 4.2**"
      ],
      "metadata": {
        "id": "RGU00Qiqgc2V"
      }
    },
    {
      "cell_type": "markdown",
      "source": [
        "Buatlah sebuah fungsi yang dapat menentukan apakah minimal dua dari tiga parameter yang diberikan memiliki digit paling kanan yang sama. Fungsi tersebut menghasilkan nilai True jika memenuhi dan False jika tidak memenuhi. Gunakan fungsi tersebut untuk mengecek beberapa test-case berikut ini:\n",
        "\n",
        "* Input = 30, 20, 18. Output yang diharapkan = True\n",
        "* Input = 145, 5, 100. Output yang diharapkan = True\n",
        "* Input = 71, 187, 18. Output yang diharapkan = False\n",
        "* Input = 1024, 14, 94. Output yang diharapkan = True\n",
        "* Input = 53, 8900, 658. Output yang diharapkan = False\n",
        "\n",
        "Ketiga bilangan tersebut diinputkan oleh pengguna, sehingga anda perlu membaca input dari pengguna. Fungsi anda harus diberi nama cek_digit_belakang()."
      ],
      "metadata": {
        "id": "4ZHlI9kPgpjV"
      }
    },
    {
      "cell_type": "code",
      "source": [
        "def cek_digit_belakang(a,b,c):\n",
        "  digit_a = a % 10\n",
        "  digit_b = b % 10\n",
        "  digit_c = c % 10\n",
        "\n",
        "  if digit_a == digit_b  or digit_a == digit_c and digit_b == digit_c:\n",
        "    return True\n",
        "  else:\n",
        "    return False\n",
        "\n",
        "a=int(input(\"Masukkan a= \"))\n",
        "b=int(input(\"Masukkan b= \"))\n",
        "c=int(input(\"Masukkan c= \"))\n",
        "\n",
        "print(cek_digit_belakang(a,b,c))"
      ],
      "metadata": {
        "colab": {
          "base_uri": "https://localhost:8080/"
        },
        "id": "yvQm39Rzh0sT",
        "outputId": "a25bfac0-01ed-46f4-d051-7d335ff99029"
      },
      "execution_count": 3,
      "outputs": [
        {
          "output_type": "stream",
          "name": "stdout",
          "text": [
            "Masukkan a= 1024\n",
            "Masukkan b= 14\n",
            "Masukkan c= 94\n",
            "True\n"
          ]
        }
      ]
    },
    {
      "cell_type": "markdown",
      "source": [
        "**LATIHAN 4.3**"
      ],
      "metadata": {
        "id": "-ijzwagyh1cB"
      }
    },
    {
      "cell_type": "markdown",
      "source": [
        "Buatlah fungsi-fungsi konversi suhu menggunakan lambda function. Fungsi-fungsi\n",
        "yang harus anda implementasikan:\n",
        "* Celcius to Fahrenheit. F = (9/5) ∗C +32\n",
        "* Celcius to Reamur. R = 0.8 ∗C\n",
        "\n",
        "Berikan contoh penggunaannya untuk test-case berikut ini:\n",
        "* Input C = 100. Output F = 212.\n",
        "* Input C = 80. Output R = 64.\n",
        "* Input = 0. Output F = 32."
      ],
      "metadata": {
        "id": "EPK6C1Zbh4mc"
      }
    },
    {
      "cell_type": "code",
      "source": [
        "hitung = {\n",
        "    \"F\" : lambda C: ((9/5)* C )+ 32,\n",
        "    \"R\" : lambda C: (0.8*C)\n",
        "}\n",
        "\n",
        "C = int(input(\"Masukkan suhu dalam celcius= \"))\n",
        "konversi = input(\"Pilih konversi suhu (F atau R)= \")\n",
        "\n",
        "print(round(hitung[konversi](C)))"
      ],
      "metadata": {
        "colab": {
          "base_uri": "https://localhost:8080/"
        },
        "id": "UDHChzkhiVCh",
        "outputId": "fb90b412-df84-487d-a852-b69f902f291d"
      },
      "execution_count": 13,
      "outputs": [
        {
          "output_type": "stream",
          "name": "stdout",
          "text": [
            "Masukkan suhu dalam celcius= 100\n",
            "Pilih konversi suhu (F atau R)= F\n",
            "212\n"
          ]
        }
      ]
    }
  ]
}
