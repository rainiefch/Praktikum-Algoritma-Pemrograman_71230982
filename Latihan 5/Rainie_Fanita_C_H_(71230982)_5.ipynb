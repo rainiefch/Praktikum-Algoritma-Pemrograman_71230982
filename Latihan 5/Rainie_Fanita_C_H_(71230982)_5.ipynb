{
  "nbformat": 4,
  "nbformat_minor": 0,
  "metadata": {
    "colab": {
      "provenance": []
    },
    "kernelspec": {
      "name": "python3",
      "display_name": "Python 3"
    },
    "language_info": {
      "name": "python"
    }
  },
  "cells": [
    {
      "cell_type": "markdown",
      "source": [
        "**LATIHAN 5.1**"
      ],
      "metadata": {
        "id": "KkjLeDBXfZU5"
      }
    },
    {
      "cell_type": "markdown",
      "source": [
        "Buatlah program yang menerapkan perhitungan perkalian dengan menggunakan penjumlahan. Buatlah fungsi perkalian() dalam program tersebut! Berikut ini adalah beberapa contoh perhitungan yang diharapkan:\n",
        "*   6 x 5 = 5 + 5 + 5 + 5 + 5 + 5 = 30.\n",
        "*   7 x 10 = 10 + 10 + 10 + 10 + 10 + 10 + 10 = 70."
      ],
      "metadata": {
        "id": "DZnnDkX3fv3-"
      }
    },
    {
      "cell_type": "code",
      "execution_count": 11,
      "metadata": {
        "colab": {
          "base_uri": "https://localhost:8080/"
        },
        "id": "xQgWyDeGer8q",
        "outputId": "f2b56a01-ee75-48fc-8dbf-e1151ce4ff54"
      },
      "outputs": [
        {
          "output_type": "stream",
          "name": "stdout",
          "text": [
            "Masukkan pengali= 7\n",
            "Masukkan bilangan= 10\n",
            "7 x 10 = 10 + 10 + 10 + 10 + 10 + 10 + 10 = 70\n"
          ]
        }
      ],
      "source": [
        "def perkalian( kali, bilangan ):\n",
        "  print(f\"{kali} x {bilangan} =\", end=\" \")\n",
        "  hasil = 0\n",
        "  for i in range(kali):\n",
        "    if i < kali-1:\n",
        "      print(bilangan, end=\" + \")\n",
        "    elif i == kali-1:\n",
        "      print(bilangan, end=\" \")\n",
        "\n",
        "    hasil += bilangan\n",
        "\n",
        "  print(f\"= {hasil}\")\n",
        "\n",
        "kali = int(input(\"Masukkan pengali= \"))\n",
        "bilangan = int(input(\"Masukkan bilangan= \"))\n",
        "\n",
        "perkalian(kali, bilangan)"
      ]
    },
    {
      "cell_type": "markdown",
      "source": [
        "**LATIHAN 5.2**"
      ],
      "metadata": {
        "id": "G7z6t5mNgGoi"
      }
    },
    {
      "cell_type": "markdown",
      "source": [
        "Buatlah program yang dapat menampilkan deret bilangan ganjil dari batas bawah dan batas atas yang diberikan oleh pengguna. Jika ternyata batas atas < batas bawah, berarti deret tersebut dimulai dari batas atas, sampai batas bawah (negatif range). Buatlah fungsi ganjil() dalam program tersebut! Berikut ini adalah contoh hasil yang diharapkan:\n",
        "* bawah = 10, atas = 30. Karena bawah < atas, berarti dari kecil ke besar, maka hasilnya adalah: 11, 13, 15, 17, 19, 21, 23, 25, 27, 29.\n",
        "* bawah = 97, atas = 82. Karena bawah > atas, berarti dari besar ke kecil, maka hasilnya adalah: 97, 95, 93, 91, 89, 87, 85, 83."
      ],
      "metadata": {
        "id": "lxvLhYvagJxj"
      }
    },
    {
      "cell_type": "code",
      "source": [
        "def ganjil(bawah, atas):\n",
        "  if bawah <= atas:\n",
        "    for i in range(bawah, atas):\n",
        "      if i % 2 != 0:\n",
        "        if i < atas - 1:\n",
        "          print(i, end=\", \")\n",
        "        elif i == atas - 1:\n",
        "          print(i, end=\".\")\n",
        "  else:\n",
        "    for i in range(bawah, atas, -1):\n",
        "      if i % 2 != 0:\n",
        "        if i > atas + 1:\n",
        "          print(i, end=\", \")\n",
        "        elif i == atas + 1:\n",
        "          print(i, end=\".\")\n",
        "\n",
        "bawah = int(input(\"Masukkan bilangan awal= \"))\n",
        "atas = int(input(\"Masukkan bilangan akhir= \"))\n",
        "\n",
        "ganjil(bawah,atas)"
      ],
      "metadata": {
        "id": "qlLwxRaDgWNU",
        "colab": {
          "base_uri": "https://localhost:8080/"
        },
        "outputId": "0a5f1239-8725-4d93-b7e3-2afc86807a12"
      },
      "execution_count": 9,
      "outputs": [
        {
          "output_type": "stream",
          "name": "stdout",
          "text": [
            "Masukkan bilangan awal= 97\n",
            "Masukkan bilangan akhir= 82\n",
            "97, 95, 93, 91, 89, 87, 85, 83."
          ]
        }
      ]
    },
    {
      "cell_type": "markdown",
      "source": [
        "**LATIHAN 5.3**"
      ],
      "metadata": {
        "id": "kWe6VHjugbpz"
      }
    },
    {
      "cell_type": "markdown",
      "source": [
        "Buatlah sebuah program penghitung nilai Indeks Prestasi Semester (IPS). Input bagi program:\n",
        "* Jumlah mata kuliah\n",
        "* Nilai A, B, C, dan D untuk setiap mata kuliah mahasiswa. Diasumsikan sks setiap mata kuliah selalu 3. Kemudian bobot dari masing-masing nilai adalah: A=4, B=3, C=2, D=1.\n",
        "Output program ialah hasil IPS yang didapatkan. Jalannya program seperti pada Gambar 5.7.Tips: Gunakan kontrol percabangan di dalam perulangan."
      ],
      "metadata": {
        "id": "BkRsO_ImgfAj"
      }
    },
    {
      "cell_type": "code",
      "source": [
        "def IPS(matkul, nilai):\n",
        "  jumlah = 0\n",
        "  for huruf in nilai:\n",
        "    if huruf == \"A\":\n",
        "      jumlah += 4\n",
        "    elif huruf == \"B\":\n",
        "      jumlah += 3\n",
        "    elif huruf == \"C\":\n",
        "      jumlah += 2\n",
        "    elif huruf == \"D\":\n",
        "      jumlah += 1\n",
        "\n",
        "  IPS = jumlah / matkul\n",
        "  print(\"Nilai IPS anda semester ini =\", IPS)\n",
        "\n",
        "nilai = []\n",
        "matkul = int(input(\"Masukkan jumlah mata kuliah = \"))\n",
        "for i in range (matkul):\n",
        "    i += 1\n",
        "    huruf = input(f\"Nilai MK {i}= \")\n",
        "    nilai.append(huruf)\n",
        "\n",
        "IPS(matkul, nilai)"
      ],
      "metadata": {
        "id": "ryAdNsGMgtI5",
        "colab": {
          "base_uri": "https://localhost:8080/"
        },
        "outputId": "daa04216-6e2c-43ae-ce65-25a9d08494f4"
      },
      "execution_count": 10,
      "outputs": [
        {
          "output_type": "stream",
          "name": "stdout",
          "text": [
            "Masukkan jumlah mata kuliah = 4\n",
            "Nilai MK 1= A\n",
            "Nilai MK 2= B\n",
            "Nilai MK 3= C\n",
            "Nilai MK 4= D\n",
            "Nilai IPS anda semester ini = 2.5\n"
          ]
        }
      ]
    }
  ]
}
