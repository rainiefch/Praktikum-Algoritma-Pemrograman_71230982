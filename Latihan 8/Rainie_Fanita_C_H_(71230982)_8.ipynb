{
  "nbformat": 4,
  "nbformat_minor": 0,
  "metadata": {
    "colab": {
      "provenance": []
    },
    "kernelspec": {
      "name": "python3",
      "display_name": "Python 3"
    },
    "language_info": {
      "name": "python"
    }
  },
  "cells": [
    {
      "cell_type": "markdown",
      "source": [
        "**LATIHAN 8.1**"
      ],
      "metadata": {
        "id": "LarMsYPVyYy4"
      }
    },
    {
      "cell_type": "markdown",
      "source": [
        "Buatlah sebuah program yang dapat membandingkan 2 buah file teks dan kemudian\n",
        "menampilkan perbedaan antar kedua teks per barisnya jika ada perbedaaan!"
      ],
      "metadata": {
        "id": "I6tQdBW0yt-Y"
      }
    },
    {
      "cell_type": "code",
      "execution_count": null,
      "metadata": {
        "id": "orncHKhWyYEP"
      },
      "outputs": [],
      "source": [
        "def banding(file1, file2):\n",
        "    with open(file1, \"r\") as f1:\n",
        "        ls1 = [line.rstrip() for line in f1]\n",
        "\n",
        "    with open(file2, \"r\") as f2:\n",
        "        ls2 = [line.rstrip() for line in f2]\n",
        "\n",
        "    gabung = zip(ls1, ls2)\n",
        "    no = 1\n",
        "    for l1, l2 in gabung:\n",
        "        if l1 != l2:\n",
        "            print(f\"Perbedaan di baris {no}:\")\n",
        "            print(f\"File 1: {l1}\")\n",
        "            print(f\"File 2: {l2}\")\n",
        "        no += 1\n",
        "\n",
        "file1 = input(\"Masukkan nama file pertama : \")\n",
        "file2 = input(\"Masukkan nama file kedua : \")\n",
        "banding(file1, file2)"
      ]
    },
    {
      "cell_type": "markdown",
      "source": [
        "**LATIHAN 8.2**"
      ],
      "metadata": {
        "id": "5lwJKb4Q8NL5"
      }
    },
    {
      "cell_type": "markdown",
      "source": [
        "Buatlah sebuah program untuk menampilkan soal sederhana yang diambil dari file teks soal.txt yang memiliki format sebagai berikut:\n",
        "1+1 = || 2\n",
        "Bendera Indonesia? || Merah Putih\n",
        "Kota gudeg adalah: || Yogyakarta\n",
        "Komponen PC untuk penyimpanan file adalah... || harddisk\n",
        "50 * 20 = || 1000\n",
        "Dari soal tersebut tampilkan sbb:\n",
        "nama file1: soal.txt\n",
        "1+1 =\n",
        "Jawab: 2\n",
        "Jawaban benar!\n",
        "Bendera Indonesia?\n",
        "Jawab: merah putih\n",
        "Jawaban benar!\n",
        "Kota gudeg adalah:\n",
        "Jawab: yogya\n",
        "Jawaban salah!\n",
        "Komponen PC untuk penyimpanan file adalah...\n",
        "Jawab: HARDDISK\n",
        "Jawaban benar!"
      ],
      "metadata": {
        "id": "8NlkhWRt8Wnj"
      }
    },
    {
      "cell_type": "code",
      "source": [
        "def kuis(file):\n",
        "    with open(file, \"r\") as f:\n",
        "        ls = [line.rstrip() for line in f]\n",
        "\n",
        "    for l in ls:\n",
        "        soal = l.split(\"||\")\n",
        "        print(f\"Pertanyaan: {soal[0]}\")\n",
        "        kunci = soal[1].lower().strip()\n",
        "        jawaban = input(\"Jawab: \").lower().strip()\n",
        "\n",
        "        if kunci == jawaban:\n",
        "            print(\"Jawaban benar!\")\n",
        "        else:\n",
        "            print(\"Jawaban salah!\")\n",
        "\n",
        "file = input(\"Sebutkan file soal : \")\n",
        "kuis(file)"
      ],
      "metadata": {
        "id": "RVUhBL_qFf9F"
      },
      "execution_count": null,
      "outputs": []
    }
  ]
}
