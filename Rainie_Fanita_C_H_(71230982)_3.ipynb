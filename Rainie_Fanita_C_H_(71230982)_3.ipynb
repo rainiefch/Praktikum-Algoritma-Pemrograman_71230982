{
  "nbformat": 4,
  "nbformat_minor": 0,
  "metadata": {
    "colab": {
      "provenance": []
    },
    "kernelspec": {
      "name": "python3",
      "display_name": "Python 3"
    },
    "language_info": {
      "name": "python"
    }
  },
  "cells": [
    {
      "cell_type": "markdown",
      "source": [
        "**LATIHAN 3.1**"
      ],
      "metadata": {
        "id": "GbdBYbYkZOby"
      }
    },
    {
      "cell_type": "markdown",
      "source": [
        "Implementasikan penanganan kesalahan input pengguna dari program-program\n",
        "pada Contoh 3.1, 3.2 dan 3.3."
      ],
      "metadata": {
        "id": "dV2Nju1Og6Tb"
      }
    },
    {
      "cell_type": "markdown",
      "source": [
        "*Contoh 3.1*"
      ],
      "metadata": {
        "id": "fbHpL3EYc1FS"
      }
    },
    {
      "cell_type": "code",
      "execution_count": 2,
      "metadata": {
        "id": "PiOYJ6AUZEp2",
        "colab": {
          "base_uri": "https://localhost:8080/"
        },
        "outputId": "8a1d60e1-e52e-4fe8-e223-ad071cc80cb0"
      },
      "outputs": [
        {
          "output_type": "stream",
          "name": "stdout",
          "text": [
            "Masukkan suhu tubuh: empat puluh delapan\n",
            "Input tidak valid\n"
          ]
        }
      ],
      "source": [
        "try:\n",
        "  suhu = int(input(\"Masukkan suhu tubuh: \"))\n",
        "\n",
        "  if suhu >= 38:\n",
        "    print(\"Anda demam\")\n",
        "  else: print(\"Anda tidak demam\")\n",
        "\n",
        "except:\n",
        "  print(\"Input tidak valid\")"
      ]
    },
    {
      "cell_type": "markdown",
      "source": [
        "*Contoh 3.2*"
      ],
      "metadata": {
        "id": "8Md6FRzbc8N6"
      }
    },
    {
      "cell_type": "code",
      "source": [
        "try:\n",
        "  bilangan = int(input(\"Masukkan suatu bilangan: \"))\n",
        "\n",
        "  if bilangan > 0:\n",
        "    print(\"Positif\")\n",
        "  elif bilangan < 0:\n",
        "    print(\"Negatif\")\n",
        "  elif bilangan == 0:\n",
        "    print(\"Nol\")\n",
        "\n",
        "except:\n",
        "  print(\"Input tidak valid\")"
      ],
      "metadata": {
        "colab": {
          "base_uri": "https://localhost:8080/"
        },
        "id": "q3atTtmwkCUJ",
        "outputId": "34f72251-6a99-4423-b3fc-a73bc82f619b"
      },
      "execution_count": 3,
      "outputs": [
        {
          "output_type": "stream",
          "name": "stdout",
          "text": [
            "Masukkan suatu bilangan: nol\n",
            "Input tidak valid\n"
          ]
        }
      ]
    },
    {
      "cell_type": "markdown",
      "source": [
        "*Contoh 3.3*"
      ],
      "metadata": {
        "id": "ZjBMS-y0dHrD"
      }
    },
    {
      "cell_type": "code",
      "source": [
        "try:\n",
        "  a = int(input(\"Masukkan bilangan pertama: \"))\n",
        "  b = int(input(\"Masukkan bilangan kedua: \"))\n",
        "  c = int(input(\"Masukkan bilangan ketiga: \"))\n",
        "\n",
        "  if a > b and a > c:\n",
        "    print(\"Terbesar: \", a)\n",
        "  elif b > a and b > c:\n",
        "    print(\"Terbesar: \", b)\n",
        "  elif c > a and c > b:\n",
        "    print(\"Terbesar: \", c)\n",
        "\n",
        "except:\n",
        "  print(\"Input tidak valid\")"
      ],
      "metadata": {
        "id": "YyJ5Bq82n3Od",
        "colab": {
          "base_uri": "https://localhost:8080/"
        },
        "outputId": "d5f24a9a-4485-415b-9c38-107c7e557f0d"
      },
      "execution_count": 4,
      "outputs": [
        {
          "output_type": "stream",
          "name": "stdout",
          "text": [
            "Masukkan bilangan pertama: besar\n",
            "Input tidak valid\n"
          ]
        }
      ]
    },
    {
      "cell_type": "markdown",
      "source": [
        "**LATIHAN 3.2**"
      ],
      "metadata": {
        "id": "SETyaktxhSb5"
      }
    },
    {
      "cell_type": "markdown",
      "source": [
        "Implementasikan percabangan pada Contoh 3.2 (Positif-Negatif) menggunakan\n",
        "ternary operator."
      ],
      "metadata": {
        "id": "CYK5Uv7Gha-7"
      }
    },
    {
      "cell_type": "code",
      "source": [
        "try:\n",
        "  bilangan = int(input(\"Masukkan suatu bilangan: \"))\n",
        "\n",
        "  print(\"Positif\" if bilangan > 0 else \"Negatif\" if bilangan < 0 else \"Nol\")\n",
        "\n",
        "except:\n",
        "  print(\"Input tidak valid\")"
      ],
      "metadata": {
        "id": "hWAXlmN2hoE8",
        "colab": {
          "base_uri": "https://localhost:8080/"
        },
        "outputId": "5f4d2fb8-4d6b-4eff-f907-0cf8d67bc9d8"
      },
      "execution_count": null,
      "outputs": [
        {
          "output_type": "stream",
          "name": "stdout",
          "text": [
            "Masukkan suatu bilangan: -3\n",
            "Negatif\n"
          ]
        }
      ]
    },
    {
      "cell_type": "code",
      "source": [
        "try:\n",
        "  bilangan = int(input(\"Masukkan suatu bilangan: \"))\n",
        "\n",
        "  print(\"Positif\") if bilangan > 0 else print(\"Negatif\") if bilangan < 0 else print(\"Nol\")\n",
        "\n",
        "except:\n",
        "  print(\"Input tidak valid\")"
      ],
      "metadata": {
        "colab": {
          "base_uri": "https://localhost:8080/"
        },
        "id": "agHIQ8P8hB9A",
        "outputId": "bf98fa56-ec5b-4d42-dbab-fb6b4045fa0f"
      },
      "execution_count": null,
      "outputs": [
        {
          "output_type": "stream",
          "name": "stdout",
          "text": [
            "Masukkan suatu bilangan: 3\n",
            "Positif\n"
          ]
        }
      ]
    },
    {
      "cell_type": "markdown",
      "source": [
        "**LATIHAN 3.3**"
      ],
      "metadata": {
        "id": "VlcbzTuShojJ"
      }
    },
    {
      "cell_type": "markdown",
      "source": [
        "Buatlah sebuah program yang dapat menampilkan jumlah hari dalam suatu bulan di\n",
        "tahun 2020. Program meminta pengguna memasukkan nomor bulan (1-12), kemudian program akan menampilkan jumlah hari pada bulan tersebut. Sebagai contoh, perhatikan input dan output\n",
        "berikut ini:\n",
        "\n",
        ">Masukkan bulan (1-12): 7<br>\n",
        ">Jumlah hari: 31\n",
        "\n",
        "Lengkapi program tersebut dengan penanganan kesalahan jika pengguna memasukkan bulan\n",
        "yang salah. Penanganan kesalahan dalam bentuk memunculkan pesan bahwa bulan yang\n",
        "diinputkan oleh pengguna tersebut tidak valid."
      ],
      "metadata": {
        "id": "f9Eh5Ut8htqD"
      }
    },
    {
      "cell_type": "code",
      "source": [
        "try:\n",
        "  bulan= int(input(\"Masukkan nomor bulan (1-12) = \"))\n",
        "\n",
        "  if bulan > 12 or bulan == 0:\n",
        "    print(\"Salah input\")\n",
        "  elif bulan == 2:\n",
        "    print(\"29\")\n",
        "  elif bulan <= 7 and bulan % 2 == 1:\n",
        "    print(\"31\")\n",
        "  elif bulan <= 7 and bulan % 2 == 0:\n",
        "    print(\"30\")\n",
        "  elif bulan > 7 and bulan % 2 == 1:\n",
        "    print(\"30\")\n",
        "  elif bulan > 7 and bulan % 2 == 0:\n",
        "    print(\"31\")\n",
        "\n",
        "except:\n",
        "  print(\"Input tidak valid\")"
      ],
      "metadata": {
        "id": "uZzSfPlTh1kH",
        "colab": {
          "base_uri": "https://localhost:8080/"
        },
        "outputId": "56704d6a-beae-47c6-ac5a-b5e3841f4b26"
      },
      "execution_count": null,
      "outputs": [
        {
          "output_type": "stream",
          "name": "stdout",
          "text": [
            "Masukkan nomor bulan (1-12) = 7\n",
            "31\n"
          ]
        }
      ]
    },
    {
      "cell_type": "markdown",
      "source": [
        "**LATIHAN 3.4**"
      ],
      "metadata": {
        "id": "sI5qp8xyh2oV"
      }
    },
    {
      "cell_type": "markdown",
      "source": [
        "Sebuah program meminta pengguna memasukkan ketiga panjang sisi suatu segitiga\n",
        "(berarti pengguna memasukkan tiga bilangan). Jika ketiga sisi segitiga tersebut semuanya sama, tampilkan pesan: \"3 sisi sama\". Jika hanya ada dua sisi yang sama panjang, tampilkan pesan \"2 sisi sama\". Jika tidak ada yang sama maka tampilkan pesan: \"Tidak ada yang sama\". Sebagai contoh, perhatikan input dan output berikut ini:\n",
        "\n",
        ">Masukkan sisi 1: 14<BR>\n",
        "Masukkan sisi 2: 18<BR>\n",
        "Masukkan sisi 3: 11<BR>\n",
        "Tidak ada yang sama\n",
        "\n",
        ">Masukkan sisi 1: 22<BR>\n",
        "Masukkan sisi 2: 22<BR>\n",
        "Masukkan sisi 3: 22<BR>\n",
        "3 sisi sama\n",
        "\n",
        ">Masukkan sisi 1: 8<BR>\n",
        "Masukkan sisi 2: 9<BR>\n",
        "Masukkan sisi 3: 8<BR>\n",
        "2 sisi sama\n",
        "\n",
        "Lengkapi program tersebut dengan penanganan kesalahan jika pengguna memasukkan input yang tidak valid.\n",
        "\n",
        "\n"
      ],
      "metadata": {
        "id": "j8s9wDmGh6ur"
      }
    },
    {
      "cell_type": "code",
      "source": [
        "try:\n",
        "  a= int(input(\"Masukkan sisi a = \"))\n",
        "  b= int(input(\"Masukkan sisi b = \"))\n",
        "  c= int(input(\"Masukkan sisi c = \"))\n",
        "\n",
        "  if a == 0 or b == 0 or c == 0:\n",
        "    print(\"Input tidak valid\")\n",
        "  elif a == b == c:\n",
        "    print(\"3 sisi sama\")\n",
        "  elif a == b or b == c or a == c:\n",
        "    print(\"2 sisi sama\")\n",
        "  else:\n",
        "     print(\"Tidak ada yang sama\")\n",
        "\n",
        "except:\n",
        "  print(\"Input tidak valid\")"
      ],
      "metadata": {
        "id": "D_d1_xCEirk1",
        "colab": {
          "base_uri": "https://localhost:8080/"
        },
        "outputId": "1b92d834-933b-4100-efad-fd289494a53a"
      },
      "execution_count": null,
      "outputs": [
        {
          "output_type": "stream",
          "name": "stdout",
          "text": [
            "Masukkan sisi a = 28\n",
            "Masukkan sisi b = 28\n",
            "Masukkan sisi c = 28\n",
            "3 sisi sama\n"
          ]
        }
      ]
    }
  ]
}