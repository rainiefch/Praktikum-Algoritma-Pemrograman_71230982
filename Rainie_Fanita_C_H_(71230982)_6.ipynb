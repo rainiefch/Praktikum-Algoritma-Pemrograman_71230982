{
  "nbformat": 4,
  "nbformat_minor": 0,
  "metadata": {
    "colab": {
      "provenance": []
    },
    "kernelspec": {
      "name": "python3",
      "display_name": "Python 3"
    },
    "language_info": {
      "name": "python"
    }
  },
  "cells": [
    {
      "cell_type": "markdown",
      "source": [
        "**LATIHAN 5.1**"
      ],
      "metadata": {
        "id": "N8aYQzQ5htBb"
      }
    },
    {
      "cell_type": "markdown",
      "source": [
        "Buatlah program untuk mencari bilangan prima terdekat dari suatu bilangan yang\n",
        "diinputkan oleh pengguna (n) dan nilai bilangan prima tersebut < n.\n",
        "*   Contoh: input n=12, maka prima terdekat < 12 adalah 11\n",
        "*   Contoh: input n=21, maka prima terdekat < 21 adalah 19"
      ],
      "metadata": {
        "id": "2ygUxAW2hwIY"
      }
    },
    {
      "cell_type": "code",
      "source": [
        "def prima(n):\n",
        "  if n > 1:\n",
        "    for i in range (2,n-1):\n",
        "      if n % i == 0:\n",
        "        return False\n",
        "        break\n",
        "    else:\n",
        "        return True\n",
        "  else:\n",
        "    return False\n",
        "\n",
        "def terdekat(n):\n",
        "  turun = n\n",
        "  naik = n\n",
        "\n",
        "  if prima(n) == True:\n",
        "    print(f\"input n = {n}, maka prima terdekat < {n} adalah {n}\")\n",
        "  else:\n",
        "    for i in range (n-1):\n",
        "      turun -= 1\n",
        "      naik += 1\n",
        "\n",
        "      turun_prima = prima(turun)\n",
        "      naik_prima = prima(naik)\n",
        "\n",
        "      if turun_prima and naik_prima:\n",
        "        print(f\"input n = {n}, maka prima terdekat < {n} adalah {turun} dan {naik}\")\n",
        "        break\n",
        "      elif turun_prima and not naik_prima:\n",
        "        print(f\"input n = {n}, maka prima terdekat < {n} adalah {turun}\")\n",
        "        break\n",
        "      elif naik_prima and not turun_prima:\n",
        "        print(f\"input n = {n}, maka prima terdekat < {n} adalah  {naik}\")\n",
        "        break\n",
        "\n",
        "n= int(input(\"Masukkan nilai n = \"))\n",
        "terdekat(n)"
      ],
      "metadata": {
        "id": "I73svI5ExD1i",
        "colab": {
          "base_uri": "https://localhost:8080/"
        },
        "outputId": "d7457dc9-28b2-46e9-e403-37061ef51f34"
      },
      "execution_count": null,
      "outputs": [
        {
          "output_type": "stream",
          "name": "stdout",
          "text": [
            "Masukkan nilai n = 12\n",
            "input n = 12, maka prima terdekat < 12 adalah 11 dan 13\n"
          ]
        }
      ]
    },
    {
      "cell_type": "markdown",
      "source": [
        "**LATIHAN 5.2**"
      ],
      "metadata": {
        "id": "qhwcF8irixLq"
      }
    },
    {
      "cell_type": "markdown",
      "source": [
        "Buatlah program untuk menampilkan deret seperti di bawah ini. n diinputkan\n",
        "secara dinamis\n",
        "> contoh: n = 6 <br>\n",
        "> 720 6 5 4 3 2 1 <br>\n",
        "> 120 5 4 3 2 1<br>\n",
        "> 24 4 3 2 1<br>\n",
        "> 6 3 2 1<br>\n",
        "> 2 2 1<br>\n",
        "> 1 1"
      ],
      "metadata": {
        "id": "TtC2FAUCiz0P"
      }
    },
    {
      "cell_type": "code",
      "source": [
        "def fibo_kali(n):\n",
        "  i = n\n",
        "  while i > 0:\n",
        "    hasil = 1\n",
        "    for j in range (i, 0, -1):\n",
        "      hasil *= j\n",
        "    print(hasil, end=\" \")\n",
        "    for k in range (i, 0, -1):\n",
        "      print(k, end=\" \")\n",
        "    i -= 1\n",
        "    print()\n",
        "\n",
        "n = int(input(\"n = \"))\n",
        "fibo_kali(n)"
      ],
      "metadata": {
        "colab": {
          "base_uri": "https://localhost:8080/"
        },
        "id": "ES3fl5a90-2G",
        "outputId": "1004076e-8eed-41bb-fdf8-1253b5ced9ef"
      },
      "execution_count": null,
      "outputs": [
        {
          "output_type": "stream",
          "name": "stdout",
          "text": [
            "n = 6\n",
            "720 6 5 4 3 2 1 \n",
            "120 5 4 3 2 1 \n",
            "24 4 3 2 1 \n",
            "6 3 2 1 \n",
            "2 2 1 \n",
            "1 1 \n"
          ]
        }
      ]
    },
    {
      "cell_type": "markdown",
      "source": [
        "**LATIHAN 5.3**"
      ],
      "metadata": {
        "id": "7Zh63bvmjeQU"
      }
    },
    {
      "cell_type": "markdown",
      "source": [
        "Buatlah program untuk menampilkan deret seperti di bawah ini. n diinputkan\n",
        "secara dinamis\n",
        "> contoh: tinggi = 5, lebar = 4<br>\n",
        "> 1 2 3 4<br>\n",
        "> 5 6 7 8<br>\n",
        "> 9 10 11 12<br>\n",
        "> 13 14 15 16<br>\n",
        "> 17 18 19 20"
      ],
      "metadata": {
        "id": "3PDMFrDpjgj6"
      }
    },
    {
      "cell_type": "code",
      "source": [
        "def deret(tinggi, lebar):\n",
        "  i = 1\n",
        "  while i <= tinggi * lebar:\n",
        "    for j in range (1, tinggi+1):\n",
        "      for k in range (1, lebar+1):\n",
        "        print(i, end=\" \")\n",
        "        i += 1\n",
        "      print()\n",
        "\n",
        "tinggi = int(input(\"Masukkan tinggi = \"))\n",
        "lebar = int(input(\"Masukkan lebar = \"))\n",
        "\n",
        "deret(tinggi, lebar)"
      ],
      "metadata": {
        "id": "TivUTxohjtcK",
        "colab": {
          "base_uri": "https://localhost:8080/"
        },
        "outputId": "b596a020-899e-45d3-b066-4f9d44685fe8"
      },
      "execution_count": null,
      "outputs": [
        {
          "output_type": "stream",
          "name": "stdout",
          "text": [
            "Masukkan tinggi = 5\n",
            "Masukkan lebar = 4\n",
            "1 2 3 4 \n",
            "5 6 7 8 \n",
            "9 10 11 12 \n",
            "13 14 15 16 \n",
            "17 18 19 20 \n"
          ]
        }
      ]
    }
  ]
}