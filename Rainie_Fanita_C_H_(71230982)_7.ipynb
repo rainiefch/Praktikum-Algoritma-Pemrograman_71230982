{
  "cells": [
    {
      "cell_type": "markdown",
      "metadata": {
        "id": "FUnC0RQ8lOV9"
      },
      "source": [
        "**LATIHAN 7.1**"
      ]
    },
    {
      "cell_type": "markdown",
      "metadata": {
        "id": "JpqPVqatlRgC"
      },
      "source": [
        "Buatlah sebuah program yang dapat mendeteksi apakah suatu kata adalah anagram\n",
        "dari kata lainnya atau bukan! Anagram adalah kata yang dibolak-balik susunan hurufnya sama.\n",
        "> Misal: mata anagram dengan atma, maat, taam, tama, dsb."
      ]
    },
    {
      "cell_type": "code",
      "execution_count": null,
      "metadata": {
        "colab": {
          "base_uri": "https://localhost:8080/"
        },
        "id": "-GSG3kkQoeMK",
        "outputId": "fec14adc-9a25-4182-8e61-b1cd251b2267"
      },
      "outputs": [
        {
          "name": "stdout",
          "output_type": "stream",
          "text": [
            "Masukkan kata 1 = mata\n",
            "Masukkan kata 2 = atma\n",
            "mata dan atma adalah anagram\n"
          ]
        }
      ],
      "source": [
        "def anagram(kata1, kata2):\n",
        "  if sorted(kata1.lower()) and sorted(kata2.lower()):\n",
        "    print(f\"{kata1} dan {kata2} adalah anagram\")\n",
        "  else:\n",
        "    print(f\"{kata1} dan {kata2} bukan anagram\")\n",
        "\n",
        "kata1 = input(\"Masukkan kata 1 = \")\n",
        "kata2 = input(\"Masukkan kata 2 = \")\n",
        "\n",
        "anagram(kata1, kata2)"
      ]
    },
    {
      "cell_type": "markdown",
      "metadata": {
        "id": "kI1xRG4PleGH"
      },
      "source": [
        "**LATIHAN 7.2**"
      ]
    },
    {
      "cell_type": "markdown",
      "metadata": {
        "id": "TU5Rpt7Plh2w"
      },
      "source": [
        "Buatlah suatu program yang dapat menghitung frekuensi kemunculan suatu kata\n",
        "yang ada pada String.\n",
        "> Misal terdapat kalimat \"Saya mau makan. Makan itu wajib. Mau siang atau malam saya wajib makan\". <BR>\n",
        "> Ditanyakan kata \"makan\". Output: makan ada 3 buah"
      ]
    },
    {
      "cell_type": "code",
      "execution_count": 1,
      "metadata": {
        "id": "M4n1T8S7fnSJ",
        "colab": {
          "base_uri": "https://localhost:8080/"
        },
        "outputId": "a86cb960-6f6d-4d43-d525-714ec502270e"
      },
      "outputs": [
        {
          "output_type": "stream",
          "name": "stdout",
          "text": [
            "masukkan kalimat : Saya mau makan. Makan itu wajib. Mau siang atau malam saya wajib makan\n",
            "masukkan kata : makan\n",
            "3\n"
          ]
        }
      ],
      "source": [
        "def hitung(kalimat, kata) :\n",
        "    kalimat = kalimat.lower()\n",
        "    kata = kata.lower()\n",
        "    hasil = kalimat.count(kata)\n",
        "    return hasil\n",
        "\n",
        "kalimat = input(\"masukkan kalimat : \")\n",
        "kata = input(\"masukkan kata : \")\n",
        "\n",
        "print(hitung(kalimat,kata))"
      ]
    },
    {
      "cell_type": "markdown",
      "metadata": {
        "id": "LUiWDnLolsQY"
      },
      "source": [
        "**LATIHAN 7.3**"
      ]
    },
    {
      "cell_type": "markdown",
      "metadata": {
        "id": "GlPDdtAtluVi"
      },
      "source": [
        "Buatlah suatu program yang dapat menghapus semua spasi yang berlebih pada\n",
        "sebuah string, dan menjadikannya satu spasi normal!\n",
        "> Misal: \"saya tidak suka memancing ikan \" <BR>\n",
        "> Output: \"saya tidak suka memancing ikan\""
      ]
    },
    {
      "cell_type": "code",
      "execution_count": null,
      "metadata": {
        "colab": {
          "base_uri": "https://localhost:8080/"
        },
        "id": "mb3bf8Y6xmbO",
        "outputId": "88b44c5f-5264-4461-bc3c-7e6535dec63b"
      },
      "outputs": [
        {
          "name": "stdout",
          "output_type": "stream",
          "text": [
            "Masukkan kalimat = saya tidak suka memancing ikan \n",
            "saya tidak suka memancing ikan\n"
          ]
        }
      ],
      "source": [
        "def spasi(kalimat):\n",
        "  bener = \" \".join(kalimat.split())\n",
        "  bener = bener.strip()\n",
        "  print(bener)\n",
        "\n",
        "kalimat= input(\"Masukkan kalimat = \")\n",
        "\n",
        "spasi(kalimat)"
      ]
    },
    {
      "cell_type": "markdown",
      "metadata": {
        "id": "KVXcVbrCl_Ai"
      },
      "source": [
        "**LATIHAN 7.4**"
      ]
    },
    {
      "cell_type": "markdown",
      "metadata": {
        "id": "Qvb_jHQNmDss"
      },
      "source": [
        "Buatlah suatu program mengetahui kata terpendek dan terpanjang dari suatu\n",
        "kalimat yang diinputkan!\n",
        "> Misal: \"red snakes and a black frog in the pool\" <BR>\n",
        "> Output: terpendek: a, terpanjang: snakes"
      ]
    },
    {
      "cell_type": "code",
      "execution_count": null,
      "metadata": {
        "colab": {
          "base_uri": "https://localhost:8080/"
        },
        "id": "lXAJCjRa3ufy",
        "outputId": "7cbfe6b7-fa32-4512-d87f-43e9a88614f5"
      },
      "outputs": [
        {
          "name": "stdout",
          "output_type": "stream",
          "text": [
            "Masukkan kalimat = red snakes and a black frog in the pool\n",
            "terpendek =  a\n",
            "terpanjang =  snakes\n"
          ]
        }
      ],
      "source": [
        "def hitung(kalimat):\n",
        "  pisah = kalimat.split()\n",
        "\n",
        "  terpendek = min(pisah, key=len)\n",
        "  terpanjang = max(pisah, key=len)\n",
        "\n",
        "  print(\"terpendek = \", terpendek)\n",
        "  print(\"terpanjang = \", terpanjang)\n",
        "\n",
        "kalimat = input(\"Masukkan kalimat = \")\n",
        "\n",
        "hitung(kalimat)"
      ]
    }
  ],
  "metadata": {
    "colab": {
      "provenance": []
    },
    "kernelspec": {
      "display_name": "Python 3",
      "name": "python3"
    },
    "language_info": {
      "name": "python"
    }
  },
  "nbformat": 4,
  "nbformat_minor": 0
}